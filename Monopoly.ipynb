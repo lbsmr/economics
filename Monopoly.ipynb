{
 "cells": [
  {
   "cell_type": "code",
   "execution_count": 1,
   "id": "7fd650b9",
   "metadata": {},
   "outputs": [],
   "source": [
    "import matplotlib.pyplot as plt\n",
    "from sympy import *\n",
    "from sympy.plotting import plot\n",
    "from sympy.printing.latex import LatexPrinter\n",
    "from sympy.core.function import _coeff_isneg, AppliedUndef, Derivative\n",
    "from sympy.printing.precedence import precedence, PRECEDENCE\n",
    "from spb import *\n",
    "from scipy.integrate import quad\n",
    "import numpy as np\n",
    "import pandas as pd"
   ]
  },
  {
   "cell_type": "code",
   "execution_count": 2,
   "id": "c76ed813",
   "metadata": {},
   "outputs": [],
   "source": [
    "class CustomPrint(LatexPrinter):\n",
    "    def _print_Derivative(self, expr):\n",
    "        diff_symbol = r'\\partial'\n",
    "\n",
    "        \n",
    "        tex = \"\" \n",
    "        dim = 0\n",
    "        for x, num in reversed(expr.variable_count):\n",
    "            dim += num\n",
    "            if num == 1:\n",
    "                tex += r\"%s %s\" % (diff_symbol, self._print(x))\n",
    "            else:\n",
    "                tex += r\"%s %s^{%s}\" % (diff_symbol,\n",
    "                                        self.parenthesize_super(self._print(x)),\n",
    "                                        self._print(num))\n",
    "\n",
    "        if dim == 1:\n",
    "            tex = r\"\\frac{%s}{%s}\" % (diff_symbol, tex) \n",
    "        else:\n",
    "            tex = r\"\\frac{%s^{%s}}{%s}\" % (diff_symbol, self._print(dim), tex) \n",
    "\n",
    "        if any(_coeff_isneg(i) for i in expr.args):\n",
    "            return r\"%s %s\" % (tex, self.parenthesize(expr.expr,\n",
    "                                                  PRECEDENCE[\"Mul\"],\n",
    "                                                  is_neg=True,\n",
    "                                                  strict=True))\n",
    "\n",
    "        return r\"%s %s\" % (tex, self.parenthesize(expr.expr,\n",
    "                                                  PRECEDENCE[\"Mul\"],\n",
    "                                                  is_neg=False,\n",
    "                                                  strict=True))\n",
    "        \n",
    "def custom_print_func(expr, **settings):\n",
    "    return CustomPrint().doprint(expr)"
   ]
  },
  {
   "cell_type": "code",
   "execution_count": 3,
   "id": "e4c5a384",
   "metadata": {},
   "outputs": [],
   "source": [
    "init_printing(use_latex=True,latex_mode=\"plain\",latex_printer=custom_print_func)\n",
    "plt.rcParams['figure.figsize'] = 10, 8"
   ]
  },
  {
   "cell_type": "code",
   "execution_count": 4,
   "id": "01d820eb",
   "metadata": {},
   "outputs": [],
   "source": [
    "a,b,C,d,e,f,q,p,R,MR,MC,tax = symbols('a b C d e f q p R MR MC tax')"
   ]
  },
  {
   "cell_type": "markdown",
   "id": "d0a834bb",
   "metadata": {},
   "source": [
    "###### Demand function (linear)"
   ]
  },
  {
   "cell_type": "code",
   "execution_count": 5,
   "id": "4808a0ce",
   "metadata": {},
   "outputs": [
    {
     "data": {
      "image/png": "[encoded data removed]",
      "text/latex": [
       "$\\displaystyle q{\\left(p \\right)} = a - b p$"
      ],
      "text/plain": [
       "q(p) = a - b⋅p"
      ]
     },
     "execution_count": 5,
     "metadata": {},
     "output_type": "execute_result"
    }
   ],
   "source": [
    "demand = Function('q')(p)\n",
    "Eq(demand,a - b*p)\n",
    "# Where q = quantity, a = demand parameter, b = demand parameter, p = price"
   ]
  },
  {
   "cell_type": "markdown",
   "id": "87228690",
   "metadata": {},
   "source": [
    "###### Inverse demand function (linear)"
   ]
  },
  {
   "cell_type": "code",
   "execution_count": 6,
   "id": "0cf6bd4d",
   "metadata": {},
   "outputs": [
    {
     "data": {
      "image/png": "[encoded data removed]",
      "text/latex": [
       "$\\displaystyle p{\\left(q \\right)} = \\frac{a}{b} - \\frac{q}{b}$"
      ],
      "text/plain": [
       "       a   q\n",
       "p(q) = ─ - ─\n",
       "       b   b"
      ]
     },
     "execution_count": 6,
     "metadata": {},
     "output_type": "execute_result"
    }
   ],
   "source": [
    "inverse_demand = Function('p')(q)\n",
    "Eq(inverse_demand,a/b - q/b)\n",
    "# Where q = quantity, a = demand parameter, b = demand parameter, p = price"
   ]
  },
  {
   "cell_type": "markdown",
   "id": "5b464c1c",
   "metadata": {},
   "source": [
    "###### Costs"
   ]
  },
  {
   "cell_type": "code",
   "execution_count": 7,
   "id": "8da7aac7",
   "metadata": {},
   "outputs": [
    {
     "data": {
      "image/png": "[encoded data removed]",
      "text/latex": [
       "$\\displaystyle C{\\left(q \\right)} = d q^{2} + e q + f + q tax$"
      ],
      "text/plain": [
       "          2                  \n",
       "C(q) = d⋅q  + e⋅q + f + q⋅tax"
      ]
     },
     "execution_count": 7,
     "metadata": {},
     "output_type": "execute_result"
    }
   ],
   "source": [
    "costs = Function('C')(q)\n",
    "Eq(costs,d*q**2 + e*q + tax*q + f)\n",
    "# Where q = quantity, d = costs parameter, e = costs parameter, f = costs parameter (fixed costs), tax = tax\n",
    "# Note: in this case, tax is applied per unit"
   ]
  },
  {
   "cell_type": "markdown",
   "id": "3f7540d7",
   "metadata": {},
   "source": [
    "###### Marginal cost"
   ]
  },
  {
   "cell_type": "code",
   "execution_count": 8,
   "id": "8676a3ef",
   "metadata": {},
   "outputs": [
    {
     "data": {
      "image/png": "[encoded data removed]",
      "text/latex": [
       "$\\displaystyle \\operatorname{MC}{\\left(q \\right)} = \\frac{\\partial}{\\partial q} C{\\left(q \\right)}$"
      ],
      "text/plain": [
       "        d       \n",
       "MC(q) = ──(C(q))\n",
       "        dq      "
      ]
     },
     "execution_count": 8,
     "metadata": {},
     "output_type": "execute_result"
    }
   ],
   "source": [
    "marginal_cost = Function('MC')(q)\n",
    "Eq(marginal_cost,diff(costs))"
   ]
  },
  {
   "cell_type": "code",
   "execution_count": 9,
   "id": "f536b2ed",
   "metadata": {},
   "outputs": [
    {
     "data": {
      "image/png": "[encoded data removed]",
      "text/latex": [
       "$\\displaystyle \\operatorname{MC}{\\left(q \\right)} = 2 d q + e + tax$"
      ],
      "text/plain": [
       "MC(q) = 2⋅d⋅q + e + tax"
      ]
     },
     "execution_count": 9,
     "metadata": {},
     "output_type": "execute_result"
    }
   ],
   "source": [
    "Eq(marginal_cost,diff(d*q**2 + e*q + tax*q + f,q))\n",
    "# Where q = quantity, d = costs parameter, e = costs parameter"
   ]
  },
  {
   "cell_type": "markdown",
   "id": "2fec9783",
   "metadata": {},
   "source": [
    "###### Revenue"
   ]
  },
  {
   "cell_type": "code",
   "execution_count": 10,
   "id": "d5d7be8c",
   "metadata": {},
   "outputs": [
    {
     "data": {
      "image/png": "[encoded data removed]",
      "text/latex": [
       "$\\displaystyle R{\\left(q \\right)} = q p{\\left(q \\right)}$"
      ],
      "text/plain": [
       "R(q) = q⋅p(q)"
      ]
     },
     "execution_count": 10,
     "metadata": {},
     "output_type": "execute_result"
    }
   ],
   "source": [
    "revenue = Function('R')(q)\n",
    "Eq(revenue,q*inverse_demand)"
   ]
  },
  {
   "cell_type": "code",
   "execution_count": 11,
   "id": "475370bc",
   "metadata": {},
   "outputs": [
    {
     "data": {
      "image/png": "[encoded data removed]",
      "text/latex": [
       "$\\displaystyle R{\\left(q \\right)} = q \\left(\\frac{a}{b} - \\frac{q}{b}\\right)$"
      ],
      "text/plain": [
       "         ⎛a   q⎞\n",
       "R(q) = q⋅⎜─ - ─⎟\n",
       "         ⎝b   b⎠"
      ]
     },
     "execution_count": 11,
     "metadata": {},
     "output_type": "execute_result"
    }
   ],
   "source": [
    "Eq(revenue,q*(a/b - q/b))\n",
    "# Where q = quantity, a = demand parameter, b = demand parameter"
   ]
  },
  {
   "cell_type": "markdown",
   "id": "997dab40",
   "metadata": {},
   "source": [
    "##### Marginal revenue"
   ]
  },
  {
   "cell_type": "code",
   "execution_count": 12,
   "id": "0dfe31f3",
   "metadata": {},
   "outputs": [
    {
     "data": {
      "image/png": "[encoded data removed]",
      "text/latex": [
       "$\\displaystyle \\operatorname{MR}{\\left(q \\right)} = \\frac{\\partial}{\\partial q} R{\\left(q \\right)}$"
      ],
      "text/plain": [
       "        d       \n",
       "MR(q) = ──(R(q))\n",
       "        dq      "
      ]
     },
     "execution_count": 12,
     "metadata": {},
     "output_type": "execute_result"
    }
   ],
   "source": [
    "marginal_revenue = Function('MR')(q)\n",
    "Eq(marginal_revenue,diff(revenue))"
   ]
  },
  {
   "cell_type": "code",
   "execution_count": 13,
   "id": "2cb8a4ae",
   "metadata": {},
   "outputs": [
    {
     "data": {
      "image/png": "[encoded data removed]",
      "text/latex": [
       "$\\displaystyle \\operatorname{MR}{\\left(q \\right)} = \\frac{a}{b} - \\frac{2 q}{b}$"
      ],
      "text/plain": [
       "        a   2⋅q\n",
       "MR(q) = ─ - ───\n",
       "        b    b "
      ]
     },
     "execution_count": 13,
     "metadata": {},
     "output_type": "execute_result"
    }
   ],
   "source": [
    "Eq(marginal_revenue,diff(q*(a/b - q/b),q))\n",
    "# Where q = quantity, a = demand parameter, b = demand parameter"
   ]
  },
  {
   "cell_type": "markdown",
   "id": "77457f04",
   "metadata": {},
   "source": [
    "### Classic monopoly without tax"
   ]
  },
  {
   "cell_type": "code",
   "execution_count": 14,
   "id": "e4209926",
   "metadata": {},
   "outputs": [],
   "source": [
    "# Lets assume the following parametres\n",
    "ex_a_1 = 4\n",
    "ex_b_1 = 0.2\n",
    "ex_d_1 = 2\n",
    "ex_e_1 = 3\n",
    "ex_f_1 = 4\n",
    "ex_tax_1 = 0"
   ]
  },
  {
   "cell_type": "code",
   "execution_count": 15,
   "id": "2c4984a4",
   "metadata": {},
   "outputs": [
    {
     "data": {
      "image/png": "[encoded data removed]",
      "text/latex": [
       "$\\displaystyle q{\\left(p \\right)} = 4 - 0.2 p$"
      ],
      "text/plain": [
       "q(p) = 4 - 0.2⋅p"
      ]
     },
     "execution_count": 15,
     "metadata": {},
     "output_type": "execute_result"
    }
   ],
   "source": [
    "# Our demand function looks like this\n",
    "demand = Function('q')(p)\n",
    "Eq(demand,ex_a_1 - ex_b_1*p)"
   ]
  },
  {
   "cell_type": "code",
   "execution_count": 16,
   "id": "3d86dae8",
   "metadata": {},
   "outputs": [
    {
     "data": {
      "image/png": "[encoded data removed]",
      "text/latex": [
       "$\\displaystyle p{\\left(q \\right)} = 20.0 - 5.0 q$"
      ],
      "text/plain": [
       "p(q) = 20.0 - 5.0⋅q"
      ]
     },
     "execution_count": 16,
     "metadata": {},
     "output_type": "execute_result"
    }
   ],
   "source": [
    "# Our inverse demand function looks like this\n",
    "inverse_demand = Function('p')(q)\n",
    "Eq(inverse_demand,ex_a_1/ex_b_1 - q/ex_b_1)"
   ]
  },
  {
   "cell_type": "code",
   "execution_count": 17,
   "id": "dc101cc2",
   "metadata": {},
   "outputs": [
    {
     "data": {
      "image/png": "[encoded data removed]",
      "text/latex": [
       "$\\displaystyle C{\\left(q \\right)} = 2 q^{2} + 3 q + 4$"
      ],
      "text/plain": [
       "          2          \n",
       "C(q) = 2⋅q  + 3⋅q + 4"
      ]
     },
     "execution_count": 17,
     "metadata": {},
     "output_type": "execute_result"
    }
   ],
   "source": [
    "# Our costs function looks like this\n",
    "costs = Function('C')(q)\n",
    "Eq(costs,ex_d_1*q**2 + ex_e_1*q + ex_tax_1*q + ex_f_1)"
   ]
  },
  {
   "cell_type": "code",
   "execution_count": 18,
   "id": "ae3d8c33",
   "metadata": {},
   "outputs": [
    {
     "data": {
      "image/png": "[encoded data removed]",
      "text/latex": [
       "$\\displaystyle \\operatorname{MC}{\\left(q \\right)} = 4 q + 3$"
      ],
      "text/plain": [
       "MC(q) = 4⋅q + 3"
      ]
     },
     "execution_count": 18,
     "metadata": {},
     "output_type": "execute_result"
    }
   ],
   "source": [
    "# Our marginal costs function looks like this\n",
    "revenue = Function('R')(q)\n",
    "Eq(marginal_cost,diff(ex_d_1*q**2 + ex_e_1*q + ex_tax_1*q + ex_f_1,q))"
   ]
  },
  {
   "cell_type": "code",
   "execution_count": 19,
   "id": "92db329b",
   "metadata": {},
   "outputs": [
    {
     "data": {
      "image/png": "[encoded data removed]",
      "text/latex": [
       "$\\displaystyle R{\\left(q \\right)} = q \\left(20.0 - 5.0 q\\right)$"
      ],
      "text/plain": [
       "R(q) = q⋅(20.0 - 5.0⋅q)"
      ]
     },
     "execution_count": 19,
     "metadata": {},
     "output_type": "execute_result"
    }
   ],
   "source": [
    "# Our revenue function looks like this\n",
    "revenue = Function('R')(q)\n",
    "Eq(revenue,q*(ex_a_1/ex_b_1 - q/ex_b_1))"
   ]
  },
  {
   "cell_type": "code",
   "execution_count": 20,
   "id": "51d81325",
   "metadata": {},
   "outputs": [
    {
     "data": {
      "image/png": "[encoded data removed]",
      "text/latex": [
       "$\\displaystyle \\operatorname{MR}{\\left(q \\right)} = 20.0 - 10.0 q$"
      ],
      "text/plain": [
       "MR(q) = 20.0 - 10.0⋅q"
      ]
     },
     "execution_count": 20,
     "metadata": {},
     "output_type": "execute_result"
    }
   ],
   "source": [
    "# Our marginal revenue function looks like this\n",
    "marginal_revenue = Function('MR')(q)\n",
    "Eq(marginal_revenue,diff(q*(ex_a_1/ex_b_1 - q/ex_b_1),q))"
   ]
  },
  {
   "cell_type": "code",
   "execution_count": 21,
   "id": "77f160d1",
   "metadata": {},
   "outputs": [
    {
     "data": {
      "image/png": "[encoded data removed]",
      "text/latex": [
       "$\\displaystyle MR = MC$"
      ],
      "text/plain": [
       "MR = MC"
      ]
     },
     "execution_count": 21,
     "metadata": {},
     "output_type": "execute_result"
    }
   ],
   "source": [
    "# We know our first order condition is\n",
    "Eq(MR,MC)"
   ]
  },
  {
   "cell_type": "code",
   "execution_count": 22,
   "id": "8c8e1f8d",
   "metadata": {},
   "outputs": [
    {
     "data": {
      "image/png": "[encoded data removed]",
      "text/latex": [
       "$\\displaystyle 20.0 - 10.0 q = 4 q + 3$"
      ],
      "text/plain": [
       "20.0 - 10.0⋅q = 4⋅q + 3"
      ]
     },
     "execution_count": 22,
     "metadata": {},
     "output_type": "execute_result"
    }
   ],
   "source": [
    "# Which equals\n",
    "Eq(diff(q*(ex_a_1/ex_b_1 - q/ex_b_1),q),diff(ex_d_1*q**2 + ex_e_1*q + ex_tax_1*q + ex_f_1,q))"
   ]
  },
  {
   "cell_type": "code",
   "execution_count": 23,
   "id": "e98bb37c",
   "metadata": {},
   "outputs": [
    {
     "data": {
      "image/png": "[encoded data removed]",
      "text/latex": [
       "$\\displaystyle 1.21428571428571$"
      ],
      "text/plain": [
       "1.21428571428571"
      ]
     },
     "execution_count": 23,
     "metadata": {},
     "output_type": "execute_result"
    }
   ],
   "source": [
    "eq_quantity_1 = solve(Eq(diff(q*(ex_a_1/ex_b_1 - q/ex_b_1),q),diff(ex_d_1*q**2 + ex_e_1*q + ex_tax_1*q + ex_f_1,q)))[0]\n",
    "eq_quantity_1\n",
    "# This is our equilibrium quantity, we have to introduce this value in the demand function to get the equilibrium price"
   ]
  },
  {
   "cell_type": "code",
   "execution_count": 24,
   "id": "91a59407",
   "metadata": {},
   "outputs": [
    {
     "data": {
      "image/png": "[encoded data removed]",
      "text/latex": [
       "$\\displaystyle 13.9285714285714$"
      ],
      "text/plain": [
       "13.9285714285714"
      ]
     },
     "execution_count": 24,
     "metadata": {},
     "output_type": "execute_result"
    }
   ],
   "source": [
    "eq_price_1 = ex_a_1/ex_b_1 - eq_quantity_1/ex_b_1\n",
    "eq_price_1\n",
    "# This is our equilibrium price"
   ]
  },
  {
   "cell_type": "code",
   "execution_count": 25,
   "id": "b6f45e06",
   "metadata": {},
   "outputs": [
    {
     "data": {
      "image/png": "[encoded data removed]",
      "text/plain": [
       "<Figure size 720x576 with 1 Axes>"
      ]
     },
     "metadata": {
      "needs_background": "light"
     },
     "output_type": "display_data"
    }
   ],
   "source": [
    "# Now we can see the graphic solution\n",
    "p1 = plot_implicit(Eq(diff(q*(ex_a_1/ex_b_1 - q/ex_b_1),q),p),(q, 0, 10),(p, 0, 20),label = 'Marginal revenue',legend=True,show=False)\n",
    "p2 = plot_implicit(Eq(diff(ex_d_1*q**2 + ex_e_1*q + ex_tax_1*q + ex_f_1,q),p),(q, 0, 10),(p, 0, 20),label = 'Marginal cost',legend=True,show=False)\n",
    "p3 = plot_implicit(Eq(ex_a_1/ex_b_1 - q/ex_b_1,p),(q, 0, 10),(p, 0, 20),label = 'Demand',legend=True,show=False)\n",
    "p1.append(p2[0])\n",
    "p1.append(p3[0])\n",
    "p1.show()\n",
    "# Note: the quantity is determined by where the marginal cost curve cuts the marginal revenue curve\n",
    "# Note: the price is determined by the value the demand curve has at the quantity determined previously"
   ]
  },
  {
   "cell_type": "code",
   "execution_count": 26,
   "id": "b0ed80d0",
   "metadata": {},
   "outputs": [
    {
     "name": "stdout",
     "output_type": "stream",
     "text": [
      "Consumer surplus: 3.68622448979592\n",
      "Producer surplus: 6.63520408163265\n"
     ]
    }
   ],
   "source": [
    "# Now we can calculate consumer and producer surplus\n",
    "consumer_surplus_1 = ((ex_a_1/ex_b_1 - eq_price_1) * eq_quantity_1) / 2\n",
    "producer_surplus_1 = ((eq_price_1 - (ex_e_1 + ex_tax_1)) * eq_quantity_1) / 2\n",
    "print(f'Consumer surplus: {consumer_surplus_1}\\nProducer surplus: {producer_surplus_1}')"
   ]
  },
  {
   "cell_type": "code",
   "execution_count": 27,
   "id": "9731f996",
   "metadata": {},
   "outputs": [
    {
     "data": {
      "image/png": "[encoded data removed]",
      "text/latex": [
       "$\\displaystyle MC = d$"
      ],
      "text/plain": [
       "MC = d"
      ]
     },
     "execution_count": 27,
     "metadata": {},
     "output_type": "execute_result"
    }
   ],
   "source": [
    "# We can also see the quantity and price of a competitive equilibrium\n",
    "# This equilibrium occurs where the marginal cost curve meets the demand curve\n",
    "Eq(MC,d)"
   ]
  },
  {
   "cell_type": "code",
   "execution_count": 28,
   "id": "0b7938d0",
   "metadata": {},
   "outputs": [
    {
     "data": {
      "image/png": "[encoded data removed]",
      "text/latex": [
       "$\\displaystyle 4 q + 3 = 20.0 - 5.0 q$"
      ],
      "text/plain": [
       "4⋅q + 3 = 20.0 - 5.0⋅q"
      ]
     },
     "execution_count": 28,
     "metadata": {},
     "output_type": "execute_result"
    }
   ],
   "source": [
    "# Which equals\n",
    "Eq(diff(ex_d_1*q**2 + ex_e_1*q + ex_tax_1*q + ex_f_1,q),ex_a_1/ex_b_1 - q/ex_b_1)"
   ]
  },
  {
   "cell_type": "code",
   "execution_count": 29,
   "id": "2bb00018",
   "metadata": {},
   "outputs": [
    {
     "data": {
      "image/png": "[encoded data removed]",
      "text/latex": [
       "$\\displaystyle 1.88888888888889$"
      ],
      "text/plain": [
       "1.88888888888889"
      ]
     },
     "execution_count": 29,
     "metadata": {},
     "output_type": "execute_result"
    }
   ],
   "source": [
    "comp_eq_quantity_1 = solve(Eq(diff(ex_d_1*q**2 + ex_e_1*q + ex_tax_1*q + ex_f_1,q),ex_a_1/ex_b_1 - q/ex_b_1))[0]\n",
    "comp_eq_quantity_1\n",
    "# We can see quantity traded is higher"
   ]
  },
  {
   "cell_type": "code",
   "execution_count": 30,
   "id": "8ad8caf1",
   "metadata": {},
   "outputs": [
    {
     "data": {
      "image/png": "[encoded data removed]",
      "text/latex": [
       "$\\displaystyle 10.5555555555556$"
      ],
      "text/plain": [
       "10.5555555555556"
      ]
     },
     "execution_count": 30,
     "metadata": {},
     "output_type": "execute_result"
    }
   ],
   "source": [
    "comp_eq_price_1 = ex_a_1/ex_b_1 - comp_eq_quantity_1/ex_b_1\n",
    "comp_eq_price_1\n",
    "# We can see price is lower"
   ]
  },
  {
   "cell_type": "code",
   "execution_count": 31,
   "id": "edc79024",
   "metadata": {},
   "outputs": [
    {
     "name": "stdout",
     "output_type": "stream",
     "text": [
      "Consumer surplus: 8.91975308641975\n",
      "Producer surplus: 7.13580246913580\n"
     ]
    }
   ],
   "source": [
    "# Lets calculate consumer and producer surplus in this case\n",
    "comp_consumer_surplus_1 = ((ex_a_1/ex_b_1 - comp_eq_price_1) * comp_eq_quantity_1) / 2\n",
    "comp_producer_surplus_1 = ((comp_eq_price_1 - (ex_e_1 + ex_tax_1)) * comp_eq_quantity_1) / 2\n",
    "print(f'Consumer surplus: {comp_consumer_surplus_1}\\nProducer surplus: {comp_producer_surplus_1}')\n",
    "# Both consumer and producer are better in a competitve environment\n",
    "# This means that producer would not choose the monopoly equilibrium"
   ]
  },
  {
   "cell_type": "markdown",
   "id": "8a329f6a",
   "metadata": {},
   "source": [
    "### Classic monopoly with tax"
   ]
  },
  {
   "cell_type": "code",
   "execution_count": 32,
   "id": "a5007675",
   "metadata": {},
   "outputs": [],
   "source": [
    "# Lets assume the following parametres\n",
    "ex_a_2 = 4\n",
    "ex_b_2 = 0.2\n",
    "ex_d_2 = 2\n",
    "ex_e_2 = 3\n",
    "ex_f_2 = 4\n",
    "ex_tax_2 = 1"
   ]
  },
  {
   "cell_type": "code",
   "execution_count": 33,
   "id": "f1d669f0",
   "metadata": {},
   "outputs": [
    {
     "data": {
      "image/png": "[encoded data removed]",
      "text/latex": [
       "$\\displaystyle q{\\left(p \\right)} = 4 - 0.2 p$"
      ],
      "text/plain": [
       "q(p) = 4 - 0.2⋅p"
      ]
     },
     "execution_count": 33,
     "metadata": {},
     "output_type": "execute_result"
    }
   ],
   "source": [
    "# Our demand function looks like this\n",
    "demand = Function('q')(p)\n",
    "Eq(demand,ex_a_2 - ex_b_2*p)"
   ]
  },
  {
   "cell_type": "code",
   "execution_count": 34,
   "id": "7b42b8d0",
   "metadata": {},
   "outputs": [
    {
     "data": {
      "image/png": "[encoded data removed]",
      "text/latex": [
       "$\\displaystyle p{\\left(q \\right)} = 20.0 - 5.0 q$"
      ],
      "text/plain": [
       "p(q) = 20.0 - 5.0⋅q"
      ]
     },
     "execution_count": 34,
     "metadata": {},
     "output_type": "execute_result"
    }
   ],
   "source": [
    "# Our inverse demand function looks like this\n",
    "inverse_demand = Function('p')(q)\n",
    "Eq(inverse_demand,ex_a_2/ex_b_2 - q/ex_b_2)"
   ]
  },
  {
   "cell_type": "code",
   "execution_count": 35,
   "id": "3df092ef",
   "metadata": {},
   "outputs": [
    {
     "data": {
      "image/png": "[encoded data removed]",
      "text/latex": [
       "$\\displaystyle C{\\left(q \\right)} = 2 q^{2} + 4 q + 4$"
      ],
      "text/plain": [
       "          2          \n",
       "C(q) = 2⋅q  + 4⋅q + 4"
      ]
     },
     "execution_count": 35,
     "metadata": {},
     "output_type": "execute_result"
    }
   ],
   "source": [
    "# Our costs function looks like this\n",
    "costs = Function('C')(q)\n",
    "Eq(costs,ex_d_2*q**2 + ex_e_2*q + ex_tax_2*q + ex_f_2)"
   ]
  },
  {
   "cell_type": "code",
   "execution_count": 36,
   "id": "8de23ef7",
   "metadata": {},
   "outputs": [
    {
     "data": {
      "image/png": "[encoded data removed]",
      "text/latex": [
       "$\\displaystyle \\operatorname{MC}{\\left(q \\right)} = 4 q + 4$"
      ],
      "text/plain": [
       "MC(q) = 4⋅q + 4"
      ]
     },
     "execution_count": 36,
     "metadata": {},
     "output_type": "execute_result"
    }
   ],
   "source": [
    "# Our marginal costs function looks like this\n",
    "revenue = Function('R')(q)\n",
    "Eq(marginal_cost,diff(ex_d_2*q**2 + ex_e_2*q + ex_tax_2*q + ex_f_2,q))"
   ]
  },
  {
   "cell_type": "code",
   "execution_count": 37,
   "id": "2d72f811",
   "metadata": {},
   "outputs": [
    {
     "data": {
      "image/png": "[encoded data removed]",
      "text/latex": [
       "$\\displaystyle R{\\left(q \\right)} = q \\left(20.0 - 5.0 q\\right)$"
      ],
      "text/plain": [
       "R(q) = q⋅(20.0 - 5.0⋅q)"
      ]
     },
     "execution_count": 37,
     "metadata": {},
     "output_type": "execute_result"
    }
   ],
   "source": [
    "# Our revenue function looks like this\n",
    "revenue = Function('R')(q)\n",
    "Eq(revenue,q*(ex_a_2/ex_b_2 - q/ex_b_2))"
   ]
  },
  {
   "cell_type": "code",
   "execution_count": 38,
   "id": "f9da7807",
   "metadata": {},
   "outputs": [
    {
     "data": {
      "image/png": "[encoded data removed]",
      "text/latex": [
       "$\\displaystyle \\operatorname{MR}{\\left(q \\right)} = 20.0 - 10.0 q$"
      ],
      "text/plain": [
       "MR(q) = 20.0 - 10.0⋅q"
      ]
     },
     "execution_count": 38,
     "metadata": {},
     "output_type": "execute_result"
    }
   ],
   "source": [
    "# Our marginal revenue function looks like this\n",
    "marginal_revenue = Function('MR')(q)\n",
    "Eq(marginal_revenue,diff(q*(ex_a_2/ex_b_2 - q/ex_b_2),q))"
   ]
  },
  {
   "cell_type": "code",
   "execution_count": 39,
   "id": "16bcdc1b",
   "metadata": {},
   "outputs": [
    {
     "data": {
      "image/png": "[encoded data removed]",
      "text/latex": [
       "$\\displaystyle MR = MC$"
      ],
      "text/plain": [
       "MR = MC"
      ]
     },
     "execution_count": 39,
     "metadata": {},
     "output_type": "execute_result"
    }
   ],
   "source": [
    "# We know our first order condition is\n",
    "Eq(MR,MC)"
   ]
  },
  {
   "cell_type": "code",
   "execution_count": 40,
   "id": "22ca67fa",
   "metadata": {},
   "outputs": [
    {
     "data": {
      "image/png": "[encoded data removed]",
      "text/latex": [
       "$\\displaystyle 20.0 - 10.0 q = 4 q + 4$"
      ],
      "text/plain": [
       "20.0 - 10.0⋅q = 4⋅q + 4"
      ]
     },
     "execution_count": 40,
     "metadata": {},
     "output_type": "execute_result"
    }
   ],
   "source": [
    "# Which equals\n",
    "Eq(diff(q*(ex_a_2/ex_b_2 - q/ex_b_2),q),diff(ex_d_2*q**2 + ex_e_2*q + ex_tax_2*q + ex_f_2,q))"
   ]
  },
  {
   "cell_type": "code",
   "execution_count": 41,
   "id": "7b415cbe",
   "metadata": {},
   "outputs": [
    {
     "data": {
      "image/png": "[encoded data removed]",
      "text/latex": [
       "$\\displaystyle 1.14285714285714$"
      ],
      "text/plain": [
       "1.14285714285714"
      ]
     },
     "execution_count": 41,
     "metadata": {},
     "output_type": "execute_result"
    }
   ],
   "source": [
    "eq_quantity_2 = solve(Eq(diff(q*(ex_a_2/ex_b_2 - q/ex_b_2),q),diff(ex_d_2*q**2 + ex_e_2*q + ex_tax_2*q + ex_f_2,q)))[0]\n",
    "eq_quantity_2\n",
    "# This is our equilibrium quantity, we have to introduce this value in the demand function to get the equilibrium price"
   ]
  },
  {
   "cell_type": "code",
   "execution_count": 42,
   "id": "6e4aeb46",
   "metadata": {},
   "outputs": [
    {
     "data": {
      "image/png": "[encoded data removed]",
      "text/latex": [
       "$\\displaystyle 14.2857142857143$"
      ],
      "text/plain": [
       "14.2857142857143"
      ]
     },
     "execution_count": 42,
     "metadata": {},
     "output_type": "execute_result"
    }
   ],
   "source": [
    "eq_price_2 = ex_a_2/ex_b_2 - eq_quantity_2/ex_b_2\n",
    "eq_price_2\n",
    "# This is our equilibrium price\n",
    "# Quantity traded is lower with tax, and price is higher"
   ]
  },
  {
   "cell_type": "code",
   "execution_count": 43,
   "id": "b5680e30",
   "metadata": {},
   "outputs": [
    {
     "data": {
      "image/png": "[encoded data removed]",
      "text/plain": [
       "<Figure size 720x576 with 1 Axes>"
      ]
     },
     "metadata": {
      "needs_background": "light"
     },
     "output_type": "display_data"
    }
   ],
   "source": [
    "# Now we can see the graphic solution\n",
    "p1 = plot_implicit(Eq(diff(q*(ex_a_2/ex_b_2 - q/ex_b_2),q),p),(q, 0, 10),(p, 0, 20),label = 'Marginal revenue',legend=True,show=False)\n",
    "p2 = plot_implicit(Eq(diff(ex_d_2*q**2 + ex_e_2*q + ex_tax_2*q + ex_f_2,q),p),(q, 0, 10),(p, 0, 20),label = 'Marginal cost',legend=True,show=False)\n",
    "p3 = plot_implicit(Eq(ex_a_2/ex_b_2 - q/ex_b_2,p),(q, 0, 10),(p, 0, 20),label = 'Demand',legend=True,show=False)\n",
    "p1.append(p2[0])\n",
    "p1.append(p3[0])\n",
    "p1.show()\n",
    "# Note: the quantity is determined by where the marginal cost curve cuts the marginal revenue curve\n",
    "# Note: the price is determined by the value the demand curve has at the quantity determined previously"
   ]
  },
  {
   "cell_type": "code",
   "execution_count": 44,
   "id": "7f52305d",
   "metadata": {},
   "outputs": [
    {
     "name": "stdout",
     "output_type": "stream",
     "text": [
      "Consumer surplus: 3.26530612244898\n",
      "Producer surplus: 5.87755102040816\n"
     ]
    }
   ],
   "source": [
    "# Now we can calculate consumer and producer surplus\n",
    "consumer_surplus_2 = ((ex_a_2/ex_b_2 - eq_price_2) * eq_quantity_2) / 2\n",
    "producer_surplus_2 = ((eq_price_2 - (ex_e_2 + ex_tax_2)) * eq_quantity_2) / 2\n",
    "print(f'Consumer surplus: {consumer_surplus_2}\\nProducer surplus: {producer_surplus_2}')\n",
    "# As we used the same parametres as in the no tax version, we can say both consumer and producer are worse with tax"
   ]
  },
  {
   "cell_type": "code",
   "execution_count": 45,
   "id": "80a88761",
   "metadata": {},
   "outputs": [
    {
     "data": {
      "image/png": "[encoded data removed]",
      "text/latex": [
       "$\\displaystyle MC = d$"
      ],
      "text/plain": [
       "MC = d"
      ]
     },
     "execution_count": 45,
     "metadata": {},
     "output_type": "execute_result"
    }
   ],
   "source": [
    "# We can also see the quantity and price of a competitive equilibrium\n",
    "# This equilibrium occurs where the marginal cost curve meets the demand curve\n",
    "Eq(MC,d)"
   ]
  },
  {
   "cell_type": "code",
   "execution_count": 46,
   "id": "9b381413",
   "metadata": {},
   "outputs": [
    {
     "data": {
      "image/png": "[encoded data removed]",
      "text/latex": [
       "$\\displaystyle 4 q + 4 = 20.0 - 5.0 q$"
      ],
      "text/plain": [
       "4⋅q + 4 = 20.0 - 5.0⋅q"
      ]
     },
     "execution_count": 46,
     "metadata": {},
     "output_type": "execute_result"
    }
   ],
   "source": [
    "# Which equals\n",
    "Eq(diff(ex_d_2*q**2 + ex_e_2*q + ex_tax_2*q + ex_f_2,q),ex_a_2/ex_b_2 - q/ex_b_2)"
   ]
  },
  {
   "cell_type": "code",
   "execution_count": 47,
   "id": "f7a839b6",
   "metadata": {},
   "outputs": [
    {
     "data": {
      "image/png": "[encoded data removed]",
      "text/latex": [
       "$\\displaystyle 1.77777777777778$"
      ],
      "text/plain": [
       "1.77777777777778"
      ]
     },
     "execution_count": 47,
     "metadata": {},
     "output_type": "execute_result"
    }
   ],
   "source": [
    "comp_eq_quantity_2 = solve(Eq(diff(ex_d_2*q**2 + ex_e_2*q + ex_tax_2*q + ex_f_2,q),ex_a_2/ex_b_2 - q/ex_b_2))[0]\n",
    "comp_eq_quantity_2\n",
    "# We can see quantity traded is higher"
   ]
  },
  {
   "cell_type": "code",
   "execution_count": 48,
   "id": "43904c5a",
   "metadata": {},
   "outputs": [
    {
     "data": {
      "image/png": "[encoded data removed]",
      "text/latex": [
       "$\\displaystyle 11.1111111111111$"
      ],
      "text/plain": [
       "11.1111111111111"
      ]
     },
     "execution_count": 48,
     "metadata": {},
     "output_type": "execute_result"
    }
   ],
   "source": [
    "comp_eq_price_2 = ex_a_2/ex_b_2 - comp_eq_quantity_2/ex_b_2\n",
    "comp_eq_price_2\n",
    "# We can see price is lower"
   ]
  },
  {
   "cell_type": "code",
   "execution_count": 49,
   "id": "61f1a200",
   "metadata": {},
   "outputs": [
    {
     "name": "stdout",
     "output_type": "stream",
     "text": [
      "Consumer surplus: 7.90123456790123\n",
      "Producer surplus: 6.32098765432099\n"
     ]
    }
   ],
   "source": [
    "# Lets calculate consumer and producer surplus in this case\n",
    "comp_consumer_surplus_2 = ((ex_a_2/ex_b_2 - comp_eq_price_2) * comp_eq_quantity_2) / 2\n",
    "comp_producer_surplus_2 = ((comp_eq_price_2 - (ex_e_2 + ex_tax_2)) * comp_eq_quantity_2) / 2\n",
    "print(f'Consumer surplus: {comp_consumer_surplus_2}\\nProducer surplus: {comp_producer_surplus_2}')\n",
    "# Both consumer and producer are better in a competitve environment even with tax\n",
    "# This means that producer would not choose the monopoly equilibrium"
   ]
  },
  {
   "cell_type": "code",
   "execution_count": 50,
   "id": "a81f364c",
   "metadata": {},
   "outputs": [
    {
     "name": "stdout",
     "output_type": "stream",
     "text": [
      "Deadweight loss: 0.0637755102040812\n"
     ]
    }
   ],
   "source": [
    "# As we used the same parametres in both the no tax and tax version, we can calculate deadweight loss and tax revenue\n",
    "deadweight_loss = (eq_price_2-eq_price_1)*(eq_price_2-eq_price_1)/2\n",
    "print(f'Deadweight loss: {deadweight_loss}')"
   ]
  },
  {
   "cell_type": "code",
   "execution_count": 51,
   "id": "5624cb24",
   "metadata": {},
   "outputs": [
    {
     "name": "stdout",
     "output_type": "stream",
     "text": [
      "Tax revenue: 1.14285714285714\n"
     ]
    }
   ],
   "source": [
    "tax_rev = ex_tax_2 * eq_quantity_2\n",
    "print(f'Tax revenue: {tax_rev}')"
   ]
  },
  {
   "cell_type": "code",
   "execution_count": 52,
   "id": "3c4c5b9c",
   "metadata": {},
   "outputs": [
    {
     "data": {
      "image/png": "[encoded data removed]",
      "text/plain": [
       "<Figure size 720x576 with 1 Axes>"
      ]
     },
     "metadata": {
      "needs_background": "light"
     },
     "output_type": "display_data"
    }
   ],
   "source": [
    "# We can see both examples together in a plot\n",
    "p1 = plot_implicit(Eq(diff(q*(ex_a_1/ex_b_1 - q/ex_b_1),q),p),(q, 0, 10),(p, 0, 20),label = 'Marginal revenue',legend=True,show=False)\n",
    "p2 = plot_implicit(Eq(diff(ex_d_1*q**2 + ex_e_1*q + ex_tax_1*q + ex_f_1,q),p),(q, 0, 10),(p, 0, 20),label = 'Marginal cost without tax',legend=True,show=False)\n",
    "p3 = plot_implicit(Eq(ex_a_1/ex_b_1 - q/ex_b_1,p),(q, 0, 10),(p, 0, 20),label = 'Demand',legend=True,show=False)\n",
    "p4 = plot_implicit(Eq(diff(ex_d_2*q**2 + ex_e_2*q + ex_tax_2*q + ex_f_2,q),p),(q, 0, 10),(p, 0, 20),label = 'Marginal cost with tax',legend=True,show=False)\n",
    "p1.append(p2[0])\n",
    "p1.append(p3[0])\n",
    "p1.append(p4[0])\n",
    "p1.show()"
   ]
  }
 ],
 "metadata": {
  "kernelspec": {
   "display_name": "Python 3 (ipykernel)",
   "language": "python",
   "name": "python3"
  },
  "language_info": {
   "codemirror_mode": {
    "name": "ipython",
    "version": 3
   },
   "file_extension": ".py",
   "mimetype": "text/x-python",
   "name": "python",
   "nbconvert_exporter": "python",
   "pygments_lexer": "ipython3",
   "version": "3.10.0"
  }
 },
 "nbformat": 4,
 "nbformat_minor": 5
}
