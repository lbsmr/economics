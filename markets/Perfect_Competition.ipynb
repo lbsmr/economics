{
 "cells": [
  {
   "cell_type": "code",
   "execution_count": 1,
   "id": "1593581e",
   "metadata": {},
   "outputs": [],
   "source": [
    "import matplotlib.pyplot as plt\n",
    "from sympy import *\n",
    "from sympy.plotting import plot\n",
    "from sympy.printing.latex import LatexPrinter\n",
    "from sympy.core.function import _coeff_isneg, AppliedUndef, Derivative\n",
    "from sympy.printing.precedence import precedence, PRECEDENCE\n",
    "from spb import *\n",
    "from scipy.integrate import quad\n",
    "import numpy as np\n",
    "import pandas as pd"
   ]
  },
  {
   "cell_type": "code",
   "execution_count": 2,
   "id": "d9ea6486",
   "metadata": {},
   "outputs": [],
   "source": [
    "class CustomPrint(LatexPrinter):\n",
    "    def _print_Derivative(self, expr):\n",
    "        diff_symbol = r'\\partial'\n",
    "\n",
    "        \n",
    "        tex = \"\" \n",
    "        dim = 0\n",
    "        for x, num in reversed(expr.variable_count):\n",
    "            dim += num\n",
    "            if num == 1:\n",
    "                tex += r\"%s %s\" % (diff_symbol, self._print(x))\n",
    "            else:\n",
    "                tex += r\"%s %s^{%s}\" % (diff_symbol,\n",
    "                                        self.parenthesize_super(self._print(x)),\n",
    "                                        self._print(num))\n",
    "\n",
    "        if dim == 1:\n",
    "            tex = r\"\\frac{%s}{%s}\" % (diff_symbol, tex) \n",
    "        else:\n",
    "            tex = r\"\\frac{%s^{%s}}{%s}\" % (diff_symbol, self._print(dim), tex) \n",
    "\n",
    "        if any(_coeff_isneg(i) for i in expr.args):\n",
    "            return r\"%s %s\" % (tex, self.parenthesize(expr.expr,\n",
    "                                                  PRECEDENCE[\"Mul\"],\n",
    "                                                  is_neg=True,\n",
    "                                                  strict=True))\n",
    "\n",
    "        return r\"%s %s\" % (tex, self.parenthesize(expr.expr,\n",
    "                                                  PRECEDENCE[\"Mul\"],\n",
    "                                                  is_neg=False,\n",
    "                                                  strict=True))\n",
    "        \n",
    "def custom_print_func(expr, **settings):\n",
    "    return CustomPrint().doprint(expr)"
   ]
  },
  {
   "cell_type": "code",
   "execution_count": 3,
   "id": "658978b1",
   "metadata": {},
   "outputs": [],
   "source": [
    "init_printing(use_latex=True,latex_mode=\"plain\",latex_printer=custom_print_func)\n",
    "plt.rcParams['figure.figsize'] = 10, 8"
   ]
  },
  {
   "cell_type": "code",
   "execution_count": 4,
   "id": "54ec97c6",
   "metadata": {},
   "outputs": [],
   "source": [
    "a,b,c,d,tax,qd,qs,p,x,y,q = symbols('a b c d tax q_d q_s p x y q')"
   ]
  },
  {
   "cell_type": "markdown",
   "id": "20102a6c",
   "metadata": {},
   "source": [
    "###### Demand function (linear)"
   ]
  },
  {
   "cell_type": "code",
   "execution_count": 5,
   "id": "ac121f11",
   "metadata": {},
   "outputs": [
    {
     "data": {
      "image/png": "[encoded data removed]",
      "text/latex": [
       "$\\displaystyle q_{d}{\\left(p \\right)} = a - b p$"
      ],
      "text/plain": [
       "q_d(p) = a - b⋅p"
      ]
     },
     "execution_count": 5,
     "metadata": {},
     "output_type": "execute_result"
    }
   ],
   "source": [
    "demand = Function('q_d')(p)\n",
    "Eq(demand,a - b*p)\n",
    "# Where qd = quantity demanded, a = demand parameter, b = demand parameter, p = price"
   ]
  },
  {
   "cell_type": "markdown",
   "id": "9bba8fb9",
   "metadata": {},
   "source": [
    "###### Inverse demand function (linear)"
   ]
  },
  {
   "cell_type": "code",
   "execution_count": 6,
   "id": "e8f4fec7",
   "metadata": {},
   "outputs": [
    {
     "data": {
      "image/png": "[encoded data removed]",
      "text/latex": [
       "$\\displaystyle p{\\left(q_{d} \\right)} = \\frac{a}{b} - \\frac{q_{d}}{b}$"
      ],
      "text/plain": [
       "         a   q_d\n",
       "p(q_d) = ─ - ───\n",
       "         b    b "
      ]
     },
     "execution_count": 6,
     "metadata": {},
     "output_type": "execute_result"
    }
   ],
   "source": [
    "inverse_demand = Function('p')(qd)\n",
    "Eq(inverse_demand,a/b - qd/b)\n",
    "# Where qd = quantity demanded, a = demand parameter, b = demand parameter, p = price"
   ]
  },
  {
   "cell_type": "markdown",
   "id": "f951c041",
   "metadata": {},
   "source": [
    "###### Supply function with tax (linear)"
   ]
  },
  {
   "cell_type": "code",
   "execution_count": 7,
   "id": "7fe707c3",
   "metadata": {},
   "outputs": [
    {
     "data": {
      "image/png": "[encoded data removed]",
      "text/latex": [
       "$\\displaystyle q_{s}{\\left(p \\right)} = c + d \\left(p - tax\\right)$"
      ],
      "text/plain": [
       "qₛ(p) = c + d⋅(p - tax)"
      ]
     },
     "execution_count": 7,
     "metadata": {},
     "output_type": "execute_result"
    }
   ],
   "source": [
    "supply_w_tax = Function('q_s')(p)\n",
    "Eq(supply_w_tax,c + d*(p-tax))\n",
    "# Where qs = quantity supplied, c = supply parameter, d = supply parameter, p = price, tax = tax"
   ]
  },
  {
   "cell_type": "markdown",
   "id": "d40d598f",
   "metadata": {},
   "source": [
    "###### Inverse supply function with tax (linear)"
   ]
  },
  {
   "cell_type": "code",
   "execution_count": 8,
   "id": "a009602e",
   "metadata": {},
   "outputs": [
    {
     "data": {
      "image/png": "[encoded data removed]",
      "text/latex": [
       "$\\displaystyle p{\\left(q_{s} \\right)} = - \\frac{c}{d} + tax + \\frac{q_{s}}{d}$"
      ],
      "text/plain": [
       "          c         qₛ\n",
       "p(qₛ) = - ─ + tax + ──\n",
       "          d         d "
      ]
     },
     "execution_count": 8,
     "metadata": {},
     "output_type": "execute_result"
    }
   ],
   "source": [
    "inverse_supply_w_tax = Function('p')(qs)\n",
    "Eq(inverse_supply_w_tax,qs/d -c/d + tax)\n",
    "# Where qs = quantity supplied, c = supply parameter, d = supply parameter, p = price, tax = tax"
   ]
  },
  {
   "cell_type": "markdown",
   "id": "84051bc0",
   "metadata": {},
   "source": [
    "###### Supply function without tax (linear)"
   ]
  },
  {
   "cell_type": "code",
   "execution_count": 9,
   "id": "674a7185",
   "metadata": {},
   "outputs": [
    {
     "data": {
      "image/png": "[encoded data removed]",
      "text/latex": [
       "$\\displaystyle q_{s}{\\left(p \\right)} = c + d p$"
      ],
      "text/plain": [
       "qₛ(p) = c + d⋅p"
      ]
     },
     "execution_count": 9,
     "metadata": {},
     "output_type": "execute_result"
    }
   ],
   "source": [
    "supply_wo_tax = Function('q_s')(p)\n",
    "Eq(supply_wo_tax,c + d*p)\n",
    "# Where qs = quantity supplied, c = supply parameter, d = supply parameter, p = price"
   ]
  },
  {
   "cell_type": "markdown",
   "id": "22e2987e",
   "metadata": {},
   "source": [
    "###### Inverse supply function without tax (linear)"
   ]
  },
  {
   "cell_type": "code",
   "execution_count": 10,
   "id": "b1cdcd5e",
   "metadata": {},
   "outputs": [
    {
     "data": {
      "image/png": "[encoded data removed]",
      "text/latex": [
       "$\\displaystyle p{\\left(q_{s} \\right)} = - \\frac{c}{d} + \\frac{q_{s}}{d}$"
      ],
      "text/plain": [
       "          c   qₛ\n",
       "p(qₛ) = - ─ + ──\n",
       "          d   d "
      ]
     },
     "execution_count": 10,
     "metadata": {},
     "output_type": "execute_result"
    }
   ],
   "source": [
    "inverse_supply_wo_tax = Function('p')(qs)\n",
    "Eq(inverse_supply_wo_tax,qs/d - c/d)\n",
    "# Where qs = quantity supplied, c = supply parameter, d = supply parameter, p = price"
   ]
  },
  {
   "cell_type": "markdown",
   "id": "2312c4ab",
   "metadata": {},
   "source": [
    "### Competitive market without tax"
   ]
  },
  {
   "cell_type": "code",
   "execution_count": 11,
   "id": "58b39aef",
   "metadata": {},
   "outputs": [],
   "source": [
    "# Lets assume the following parametres\n",
    "ex_a_1 = 5\n",
    "ex_b_1 = 0.2\n",
    "ex_c_1 = 2\n",
    "ex_d_1 = 0.3\n",
    "ex_tax_1 = 0"
   ]
  },
  {
   "cell_type": "code",
   "execution_count": 12,
   "id": "ddfa2d9a",
   "metadata": {
    "scrolled": true
   },
   "outputs": [
    {
     "data": {
      "image/png": "[encoded data removed]",
      "text/latex": [
       "$\\displaystyle q_{d}{\\left(p \\right)} = 5 - 0.2 p$"
      ],
      "text/plain": [
       "q_d(p) = 5 - 0.2⋅p"
      ]
     },
     "execution_count": 12,
     "metadata": {},
     "output_type": "execute_result"
    }
   ],
   "source": [
    "# Our inverse demand function looks like this\n",
    "demand = Function('q_d')(p)\n",
    "Eq(demand,ex_a_1 - ex_b_1*p)"
   ]
  },
  {
   "cell_type": "code",
   "execution_count": 13,
   "id": "0d786533",
   "metadata": {},
   "outputs": [
    {
     "data": {
      "image/png": "[encoded data removed]",
      "text/latex": [
       "$\\displaystyle q_{s}{\\left(p \\right)} = 0.3 p + 2$"
      ],
      "text/plain": [
       "qₛ(p) = 0.3⋅p + 2"
      ]
     },
     "execution_count": 13,
     "metadata": {},
     "output_type": "execute_result"
    }
   ],
   "source": [
    "# Our supply function looks like this\n",
    "supply_w_tax = Function('q_s')(p)\n",
    "Eq(supply_w_tax,ex_c_1 + ex_d_1*(p-ex_tax_1))"
   ]
  },
  {
   "cell_type": "code",
   "execution_count": 14,
   "id": "8477cc3f",
   "metadata": {},
   "outputs": [
    {
     "data": {
      "image/png": "[encoded data removed]",
      "text/latex": [
       "$\\displaystyle q_{s} = q_{d}$"
      ],
      "text/plain": [
       "qₛ = q_d"
      ]
     },
     "execution_count": 14,
     "metadata": {},
     "output_type": "execute_result"
    }
   ],
   "source": [
    "# As tax = 0, in equilibrium this condition is met\n",
    "Eq(qs,qd)"
   ]
  },
  {
   "cell_type": "code",
   "execution_count": 15,
   "id": "a397beaa",
   "metadata": {
    "scrolled": true
   },
   "outputs": [
    {
     "data": {
      "image/png": "[encoded data removed]",
      "text/latex": [
       "$\\displaystyle 5 - 0.2 p = 0.3 p + 2$"
      ],
      "text/plain": [
       "5 - 0.2⋅p = 0.3⋅p + 2"
      ]
     },
     "execution_count": 15,
     "metadata": {},
     "output_type": "execute_result"
    }
   ],
   "source": [
    "# To find the equilibrium price we just have to solve the following equation\n",
    "Eq(ex_a_1 - ex_b_1*p,ex_c_1 + ex_d_1*(p-ex_tax_1))"
   ]
  },
  {
   "cell_type": "code",
   "execution_count": 16,
   "id": "5a1cee77",
   "metadata": {},
   "outputs": [
    {
     "data": {
      "image/png": "[encoded data removed]",
      "text/latex": [
       "$\\displaystyle 6.0$"
      ],
      "text/plain": [
       "6.00000000000000"
      ]
     },
     "execution_count": 16,
     "metadata": {},
     "output_type": "execute_result"
    }
   ],
   "source": [
    "eq_price_1 = solve(Eq(ex_a_1 - ex_b_1*p,ex_c_1 + ex_d_1*(p-ex_tax_1)),p)[0]\n",
    "eq_price_1\n",
    "# This is our equilibrium price"
   ]
  },
  {
   "cell_type": "code",
   "execution_count": 17,
   "id": "28062a3e",
   "metadata": {},
   "outputs": [
    {
     "data": {
      "image/png": "[encoded data removed]",
      "text/latex": [
       "$\\displaystyle 3.8$"
      ],
      "text/plain": [
       "3.80000000000000"
      ]
     },
     "execution_count": 17,
     "metadata": {},
     "output_type": "execute_result"
    }
   ],
   "source": [
    "# Now we just introduce this value in any of the supply or demand functions to get the equilibrium quantity\n",
    "eq_quantity_1 = ex_c_1 + ex_d_1*(eq_price_1-ex_tax_1)\n",
    "eq_quantity_1\n",
    "# This is our equilibrium quantity"
   ]
  },
  {
   "cell_type": "code",
   "execution_count": 18,
   "id": "5f3d6e7b",
   "metadata": {},
   "outputs": [
    {
     "data": {
      "image/png": "[encoded data removed]",
      "text/plain": [
       "<Figure size 720x576 with 1 Axes>"
      ]
     },
     "metadata": {
      "needs_background": "light"
     },
     "output_type": "display_data"
    }
   ],
   "source": [
    "# We can see the graphic solution\n",
    "p1 = plot_implicit(Eq(p,ex_a_1/ex_b_1-q/ex_b_1),(q, 0, 10),(p, 0, 10),label = 'Demand',legend=True,show=False)\n",
    "p2 = plot_implicit(Eq(p,q/ex_d_1 -ex_c_1/ex_d_1 + ex_tax_1),(q, 0, 30),(p, 0, 10),label = 'Supply',legend=True,show=False)\n",
    "p1.append(p2[0])\n",
    "p1.show()\n",
    "# Remember we are plotting the inverse functions"
   ]
  },
  {
   "cell_type": "code",
   "execution_count": 19,
   "id": "957ab73d",
   "metadata": {},
   "outputs": [
    {
     "name": "stdout",
     "output_type": "stream",
     "text": [
      "Consumer surplus: 36.1000000000000\n",
      "Producer surplus: 24.0666666666667\n"
     ]
    }
   ],
   "source": [
    "# Now we can calculate consumer and producer surplus\n",
    "producer_surplus_1 = ((eq_price_1 - (-ex_c_1/ex_d_1 + ex_tax_1)) * eq_quantity_1) / 2\n",
    "consumer_surplus_1 = ((ex_a_1/ex_b_1 - eq_price_1) * eq_quantity_1) / 2\n",
    "print(f'Consumer surplus: {consumer_surplus_1}\\nProducer surplus: {producer_surplus_1}')"
   ]
  },
  {
   "cell_type": "markdown",
   "id": "dfc10563",
   "metadata": {},
   "source": [
    "### Competitve market with tax"
   ]
  },
  {
   "cell_type": "code",
   "execution_count": 20,
   "id": "f615ba73",
   "metadata": {},
   "outputs": [],
   "source": [
    "# Note: the tax we are assumming will be placed on producers"
   ]
  },
  {
   "cell_type": "code",
   "execution_count": 21,
   "id": "93732501",
   "metadata": {},
   "outputs": [],
   "source": [
    "# Lets keep using the same parametres, but this time with a tax value different than 0\n",
    "ex_a_2 = 5\n",
    "ex_b_2 = 0.2\n",
    "ex_c_2 = 2\n",
    "ex_d_2 = 0.3\n",
    "ex_tax_2 = 2"
   ]
  },
  {
   "cell_type": "code",
   "execution_count": 22,
   "id": "8414e4a4",
   "metadata": {
    "scrolled": true
   },
   "outputs": [
    {
     "data": {
      "image/png": "[encoded data removed]",
      "text/latex": [
       "$\\displaystyle q_{d}{\\left(p \\right)} = 5 - 0.2 p$"
      ],
      "text/plain": [
       "q_d(p) = 5 - 0.2⋅p"
      ]
     },
     "execution_count": 22,
     "metadata": {},
     "output_type": "execute_result"
    }
   ],
   "source": [
    "# Our inverse demand function looks like this\n",
    "demand = Function('q_d')(p)\n",
    "Eq(demand,ex_a_2 - ex_b_2*p)"
   ]
  },
  {
   "cell_type": "code",
   "execution_count": 23,
   "id": "b691da86",
   "metadata": {},
   "outputs": [
    {
     "data": {
      "image/png": "[encoded data removed]",
      "text/latex": [
       "$\\displaystyle q_{s}{\\left(p \\right)} = 0.3 p + 1.4$"
      ],
      "text/plain": [
       "qₛ(p) = 0.3⋅p + 1.4"
      ]
     },
     "execution_count": 23,
     "metadata": {},
     "output_type": "execute_result"
    }
   ],
   "source": [
    "# Our supply function looks like this\n",
    "supply_w_tax = Function('q_s')(p)\n",
    "Eq(supply_w_tax,ex_c_2 + ex_d_2*(p-ex_tax_2))"
   ]
  },
  {
   "cell_type": "code",
   "execution_count": 24,
   "id": "1dae35b7",
   "metadata": {},
   "outputs": [
    {
     "data": {
      "image/png": "[encoded data removed]",
      "text/latex": [
       "$\\displaystyle q_{s} = q_{d}$"
      ],
      "text/plain": [
       "qₛ = q_d"
      ]
     },
     "execution_count": 24,
     "metadata": {},
     "output_type": "execute_result"
    }
   ],
   "source": [
    "# As tax = 0, in equilibrium this condition is met\n",
    "Eq(qs,qd)"
   ]
  },
  {
   "cell_type": "code",
   "execution_count": 25,
   "id": "9b48d615",
   "metadata": {
    "scrolled": true
   },
   "outputs": [
    {
     "data": {
      "image/png": "[encoded data removed]",
      "text/latex": [
       "$\\displaystyle 5 - 0.2 p = 0.3 p + 1.4$"
      ],
      "text/plain": [
       "5 - 0.2⋅p = 0.3⋅p + 1.4"
      ]
     },
     "execution_count": 25,
     "metadata": {},
     "output_type": "execute_result"
    }
   ],
   "source": [
    "# To find the equilibrium price we just have to solve the following equation\n",
    "Eq(ex_a_2 - ex_b_2*p,ex_c_2 + ex_d_2*(p-ex_tax_2))"
   ]
  },
  {
   "cell_type": "code",
   "execution_count": 26,
   "id": "fe60118e",
   "metadata": {},
   "outputs": [
    {
     "data": {
      "image/png": "[encoded data removed]",
      "text/latex": [
       "$\\displaystyle 7.2$"
      ],
      "text/plain": [
       "7.20000000000000"
      ]
     },
     "execution_count": 26,
     "metadata": {},
     "output_type": "execute_result"
    }
   ],
   "source": [
    "eq_price_2 = solve(Eq(ex_a_2 - ex_b_2*p,ex_c_2 + ex_d_2*(p-ex_tax_2)),p)[0]\n",
    "eq_price_2\n",
    "# This is our equilibrium price"
   ]
  },
  {
   "cell_type": "code",
   "execution_count": 27,
   "id": "36810ebf",
   "metadata": {},
   "outputs": [
    {
     "data": {
      "image/png": "[encoded data removed]",
      "text/latex": [
       "$\\displaystyle 3.56$"
      ],
      "text/plain": [
       "3.56000000000000"
      ]
     },
     "execution_count": 27,
     "metadata": {},
     "output_type": "execute_result"
    }
   ],
   "source": [
    "# Now we just introduce this value in any of the supply or demand functions to get the equilibrium quantity\n",
    "eq_quantity_2 = ex_c_2 + ex_d_2*(eq_price_2-ex_tax_2)\n",
    "eq_quantity_2\n",
    "# This is our equilibrium quantity"
   ]
  },
  {
   "cell_type": "code",
   "execution_count": 28,
   "id": "914e4154",
   "metadata": {},
   "outputs": [
    {
     "data": {
      "image/png": "[encoded data removed]",
      "text/plain": [
       "<Figure size 720x576 with 1 Axes>"
      ]
     },
     "metadata": {
      "needs_background": "light"
     },
     "output_type": "display_data"
    }
   ],
   "source": [
    "# We can see the graphic solution\n",
    "p1 = plot_implicit(Eq(p,ex_a_2/ex_b_2-q/ex_b_2),(q, 0, 10),(p, 0, 10),label = 'Demand',legend=True,show=False)\n",
    "p2 = plot_implicit(Eq(p,q/ex_d_2 -ex_c_2/ex_d_2 + ex_tax_2),(q, 0, 30),(p, 0, 10),label = 'Supply',legend=True,show=False)\n",
    "p1.append(p2[0])\n",
    "p1.show()\n",
    "# Remember we are plotting the inverse functions"
   ]
  },
  {
   "cell_type": "code",
   "execution_count": 29,
   "id": "413e2073",
   "metadata": {},
   "outputs": [
    {
     "name": "stdout",
     "output_type": "stream",
     "text": [
      "Consumer surplus: 31.6840000000000\n",
      "Producer surplus: 21.1226666666667\n"
     ]
    }
   ],
   "source": [
    "# Now we can calculate consumer and producer surplus\n",
    "producer_surplus_2 = ((eq_price_2 - (-ex_c_2/ex_d_2 + ex_tax_2)) * eq_quantity_2) / 2\n",
    "consumer_surplus_2 = ((ex_a_2/ex_b_2 - eq_price_2) * eq_quantity_2) / 2\n",
    "print(f'Consumer surplus: {consumer_surplus_2}\\nProducer surplus: {producer_surplus_2}')"
   ]
  },
  {
   "cell_type": "code",
   "execution_count": 30,
   "id": "fd6594fa",
   "metadata": {},
   "outputs": [
    {
     "name": "stdout",
     "output_type": "stream",
     "text": [
      "Deadweight loss: 0.720000000000000\n"
     ]
    }
   ],
   "source": [
    "# As we used the same parametres as the market without tax, we can calculate the deadweight loss that the tax caused\n",
    "deadweight_loss = (eq_price_2-eq_price_1)*(eq_price_2-eq_price_1)/2\n",
    "print(f'Deadweight loss: {deadweight_loss}')"
   ]
  },
  {
   "cell_type": "code",
   "execution_count": 31,
   "id": "698b2744",
   "metadata": {},
   "outputs": [
    {
     "name": "stdout",
     "output_type": "stream",
     "text": [
      "Tax revenue: 7.12000000000000\n"
     ]
    }
   ],
   "source": [
    "# We can also calculate tax revenue\n",
    "tax_rev = ex_tax_2 * eq_quantity_2\n",
    "print(f'Tax revenue: {tax_rev}')"
   ]
  },
  {
   "cell_type": "code",
   "execution_count": 32,
   "id": "e989971c",
   "metadata": {},
   "outputs": [
    {
     "data": {
      "image/png": "[encoded data removed]",
      "text/plain": [
       "<Figure size 720x576 with 1 Axes>"
      ]
     },
     "metadata": {
      "needs_background": "light"
     },
     "output_type": "display_data"
    }
   ],
   "source": [
    "# Lets plot both situations together as the parametres are the same\n",
    "p1 = plot_implicit(Eq(p,ex_a_1/ex_b_1-q/ex_b_1),(q, 0, 10),(p, 0, 10),label = 'Demand',legend=True,show=False)\n",
    "p2 = plot_implicit(Eq(p,q/ex_d_1 -ex_c_1/ex_d_1 + ex_tax_1),(q, 0, 30),(p, 0, 10),label = 'Supply without tax',legend=True,show=False)\n",
    "p3 = plot_implicit(Eq(p,q/ex_d_2 -ex_c_2/ex_d_2 + ex_tax_2),(q, 0, 30),(p, 0, 10),label = 'Supply with tax',legend=True,show=False)\n",
    "p1.append(p2[0])\n",
    "p1.append(p3[0])\n",
    "p1.show()\n",
    "# Remember we are plotting the inverse functions"
   ]
  }
 ],
 "metadata": {
  "kernelspec": {
   "display_name": "Python 3 (ipykernel)",
   "language": "python",
   "name": "python3"
  },
  "language_info": {
   "codemirror_mode": {
    "name": "ipython",
    "version": 3
   },
   "file_extension": ".py",
   "mimetype": "text/x-python",
   "name": "python",
   "nbconvert_exporter": "python",
   "pygments_lexer": "ipython3",
   "version": "3.10.0"
  }
 },
 "nbformat": 4,
 "nbformat_minor": 5
}
